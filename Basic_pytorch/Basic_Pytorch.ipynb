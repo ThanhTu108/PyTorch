{
 "cells": [
  {
   "cell_type": "markdown",
   "id": "ef499b6c",
   "metadata": {},
   "source": [
    "# PyTorch"
   ]
  },
  {
   "cell_type": "markdown",
   "id": "f8301cdf",
   "metadata": {},
   "source": [
    "## Create a tensor\n"
   ]
  },
  {
   "cell_type": "code",
   "execution_count": 1,
   "id": "37d91c74",
   "metadata": {},
   "outputs": [],
   "source": [
    "import torch"
   ]
  }
 ],
 "metadata": {
  "kernelspec": {
   "display_name": ".venv_3.10",
   "language": "python",
   "name": "python3"
  },
  "language_info": {
   "codemirror_mode": {
    "name": "ipython",
    "version": 3
   },
   "file_extension": ".py",
   "mimetype": "text/x-python",
   "name": "python",
   "nbconvert_exporter": "python",
   "pygments_lexer": "ipython3",
   "version": "3.10.9"
  }
 },
 "nbformat": 4,
 "nbformat_minor": 5
}
