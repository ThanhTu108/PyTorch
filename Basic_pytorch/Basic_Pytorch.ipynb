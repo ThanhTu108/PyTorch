{
 "cells": [
  {
   "cell_type": "markdown",
   "id": "ef499b6c",
   "metadata": {},
   "source": [
    "# PyTorch"
   ]
  },
  {
   "cell_type": "markdown",
   "id": "f8301cdf",
   "metadata": {},
   "source": [
    "## Create a tensor\n"
   ]
  }
 ],
 "metadata": {
  "language_info": {
   "name": "python"
  }
 },
 "nbformat": 4,
 "nbformat_minor": 5
}
