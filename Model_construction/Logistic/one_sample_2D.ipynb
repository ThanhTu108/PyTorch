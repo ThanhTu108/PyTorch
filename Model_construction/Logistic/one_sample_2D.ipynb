{
 "cells": [
  {
   "cell_type": "code",
   "execution_count": 35,
   "id": "3bf7890d",
   "metadata": {},
   "outputs": [],
   "source": [
    "import numpy as np\n",
    "import torch\n",
    "import torch.nn as nn"
   ]
  },
  {
   "cell_type": "code",
   "execution_count": 36,
   "id": "ce3e0c1d",
   "metadata": {},
   "outputs": [
    {
     "name": "stdout",
     "output_type": "stream",
     "text": [
      "tensor([[1.4000, 0.2000],\n",
      "        [1.5000, 0.2000],\n",
      "        [3.0000, 1.1000],\n",
      "        [4.1000, 1.3000]], dtype=torch.float64)\n",
      "tensor([0., 0., 1., 1.], dtype=torch.float64)\n"
     ]
    }
   ],
   "source": [
    "data = np.genfromtxt('iris_2D_demo.csv', delimiter=',', skip_header=1)\n",
    "x_data = torch.from_numpy(data[:, 0:2])\n",
    "y_data = torch.from_numpy(data[:, 2])\n",
    "print(x_data)\n",
    "print(y_data)"
   ]
  },
  {
   "cell_type": "code",
   "execution_count": 37,
   "id": "1b48adc2",
   "metadata": {},
   "outputs": [
    {
     "name": "stdout",
     "output_type": "stream",
     "text": [
      "Parameter containing:\n",
      "tensor([[ 0.5000, -0.1000]], requires_grad=True)\n",
      "Parameter containing:\n",
      "tensor([0.1000], requires_grad=True)\n"
     ]
    }
   ],
   "source": [
    "linear = nn.Linear(2, 1)\n",
    "\n",
    "linear.weight.data = torch.Tensor([[0.5, -0.1]])\n",
    "linear.bias.data = torch.Tensor([0.1])\n",
    "\n",
    "print(linear.weight)\n",
    "print(linear.bias)"
   ]
  },
  {
   "cell_type": "code",
   "execution_count": 38,
   "id": "f5a4d0b1",
   "metadata": {},
   "outputs": [],
   "source": [
    "loss_fn = nn.BCELoss()\n",
    "optimizer = torch.optim.SGD(linear.parameters(),\n",
    "                            lr=0.01)\n",
    "epochs = 1"
   ]
  },
  {
   "cell_type": "code",
   "execution_count": 39,
   "id": "cb831379",
   "metadata": {},
   "outputs": [
    {
     "name": "stdout",
     "output_type": "stream",
     "text": [
      "y_hat: 0.6856801509857178\n",
      "loss: 1.1573442220687866\n",
      "(dw, db): (tensor([[0.9600, 0.1371]]), tensor([0.6857]))\n",
      "(w, b): (tensor([[ 0.4904, -0.1014]]), tensor([0.0931]))\n",
      "y_hat: 0.6917833089828491\n",
      "loss: 1.1769522428512573\n",
      "(dw, db): (tensor([[1.0377, 0.1384]]), tensor([0.6918]))\n",
      "(w, b): (tensor([[ 0.4800, -0.1028]]), tensor([0.0862]))\n",
      "y_hat: 0.8042805790901184\n",
      "loss: 0.2178070843219757\n",
      "(dw, db): (tensor([[-0.5872, -0.2153]]), tensor([-0.1957]))\n",
      "(w, b): (tensor([[ 0.4859, -0.1006]]), tensor([0.0882]))\n",
      "y_hat: 0.8753998279571533\n",
      "loss: 0.133074551820755\n",
      "(dw, db): (tensor([[-0.5109, -0.1620]]), tensor([-0.1246]))\n",
      "(w, b): (tensor([[ 0.4910, -0.0990]]), tensor([0.0894]))\n"
     ]
    }
   ],
   "source": [
    "# training\n",
    "for epoch in range(epochs):\n",
    "    for i in range (x_data.shape[0]):\n",
    "        x = x_data[i].float()\n",
    "        y = y_data[i: i+1].float()\n",
    "        #y_hat\n",
    "        y_hat = torch.sigmoid(linear(x))\n",
    "        print(f'y_hat: {y_hat.item()}')\n",
    "        # loss\n",
    "        loss = loss_fn(y_hat, y)\n",
    "        print(f'loss: {loss.item()}')\n",
    "\n",
    "        #compute gradient\n",
    "        optimizer.zero_grad()\n",
    "        loss.backward()\n",
    "        print(f'(dw, db): ({linear.weight.grad.data}, {linear.bias.grad.data})')\n",
    "\n",
    "        #updata\n",
    "        optimizer.step()\n",
    "        print(f'(w, b): ({linear.weight.data}, {linear.bias.data})')\n"
   ]
  }
 ],
 "metadata": {
  "kernelspec": {
   "display_name": ".venv (3.11.5)",
   "language": "python",
   "name": "python3"
  },
  "language_info": {
   "codemirror_mode": {
    "name": "ipython",
    "version": 3
   },
   "file_extension": ".py",
   "mimetype": "text/x-python",
   "name": "python",
   "nbconvert_exporter": "python",
   "pygments_lexer": "ipython3",
   "version": "3.11.5"
  }
 },
 "nbformat": 4,
 "nbformat_minor": 5
}
