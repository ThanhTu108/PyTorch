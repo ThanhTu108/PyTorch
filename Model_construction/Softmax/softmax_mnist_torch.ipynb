{
 "cells": [
  {
   "cell_type": "markdown",
   "id": "c7900e6a",
   "metadata": {},
   "source": [
    "# Visualize Mnist Dataset"
   ]
  },
  {
   "cell_type": "code",
   "execution_count": 33,
   "id": "c99dc1c7",
   "metadata": {},
   "outputs": [],
   "source": [
    "import torch\n",
    "import torchvision\n",
    "import matplotlib.pyplot as plt\n"
   ]
  },
  {
   "cell_type": "markdown",
   "id": "c29c182c",
   "metadata": {},
   "source": [
    "## Function to load and plot MNIST dataset"
   ]
  },
  {
   "cell_type": "code",
   "execution_count": null,
   "id": "2f4552b6",
   "metadata": {},
   "outputs": [
    {
     "ename": "TypeError",
     "evalue": "subplot() takes 1 or 3 positional arguments but 2 were given",
     "output_type": "error",
     "traceback": [
      "\u001b[31m---------------------------------------------------------------------------\u001b[39m",
      "\u001b[31mTypeError\u001b[39m                                 Traceback (most recent call last)",
      "\u001b[36mCell\u001b[39m\u001b[36m \u001b[39m\u001b[32mIn[67]\u001b[39m\u001b[32m, line 20\u001b[39m\n\u001b[32m     16\u001b[39m         \u001b[38;5;28;01mbreak\u001b[39;00m\n\u001b[32m     19\u001b[39m \u001b[38;5;28;01mif\u001b[39;00m \u001b[34m__name__\u001b[39m == \u001b[33m'\u001b[39m\u001b[33m__main__\u001b[39m\u001b[33m'\u001b[39m:\n\u001b[32m---> \u001b[39m\u001b[32m20\u001b[39m     \u001b[43mplot_mnist_images\u001b[49m\u001b[43m(\u001b[49m\u001b[43m)\u001b[49m\n",
      "\u001b[36mCell\u001b[39m\u001b[36m \u001b[39m\u001b[32mIn[67]\u001b[39m\u001b[32m, line 11\u001b[39m, in \u001b[36mplot_mnist_images\u001b[39m\u001b[34m()\u001b[39m\n\u001b[32m      9\u001b[39m \u001b[38;5;28;01mfor\u001b[39;00m image, labels \u001b[38;5;129;01min\u001b[39;00m data_loader:\n\u001b[32m     10\u001b[39m     \u001b[38;5;28;01mfor\u001b[39;00m i \u001b[38;5;129;01min\u001b[39;00m \u001b[38;5;28mrange\u001b[39m(\u001b[32m10\u001b[39m):\n\u001b[32m---> \u001b[39m\u001b[32m11\u001b[39m         \u001b[43mplt\u001b[49m\u001b[43m.\u001b[49m\u001b[43mSubplot\u001b[49m\u001b[43m(\u001b[49m\u001b[32;43m2\u001b[39;49m\u001b[43m,\u001b[49m\u001b[43m \u001b[49m\u001b[32;43m5\u001b[39;49m\u001b[43m,\u001b[49m\u001b[43m \u001b[49m\u001b[43mi\u001b[49m\u001b[43m \u001b[49m\u001b[43m+\u001b[49m\u001b[43m \u001b[49m\u001b[32;43m1\u001b[39;49m\u001b[43m)\u001b[49m\n\u001b[32m     12\u001b[39m         plt.imshow(image[i].squeeze().numpy(), cmap=\u001b[33m'\u001b[39m\u001b[33mgray\u001b[39m\u001b[33m'\u001b[39m)\n\u001b[32m     13\u001b[39m         plt.title(\u001b[33mf\u001b[39m\u001b[33m'\u001b[39m\u001b[33mLabel: \u001b[39m\u001b[38;5;132;01m{\u001b[39;00mlabels[i]\u001b[38;5;132;01m}\u001b[39;00m\u001b[33m'\u001b[39m)\n",
      "\u001b[36mFile \u001b[39m\u001b[32md:\\Desktop\\hoc\\Tu\\AI\\AIO_AI\\Pytorch\\.venv\\Lib\\site-packages\\matplotlib\\axes\\_base.py:692\u001b[39m, in \u001b[36m_AxesBase.__init__\u001b[39m\u001b[34m(self, fig, facecolor, frameon, sharex, sharey, label, xscale, yscale, box_aspect, forward_navigation_events, *args, **kwargs)\u001b[39m\n\u001b[32m    690\u001b[39m \u001b[38;5;28;01melse\u001b[39;00m:\n\u001b[32m    691\u001b[39m     \u001b[38;5;28mself\u001b[39m._position = \u001b[38;5;28mself\u001b[39m._originalPosition = mtransforms.Bbox.unit()\n\u001b[32m--> \u001b[39m\u001b[32m692\u001b[39m     subplotspec = \u001b[43mSubplotSpec\u001b[49m\u001b[43m.\u001b[49m\u001b[43m_from_subplot_args\u001b[49m\u001b[43m(\u001b[49m\u001b[43mfig\u001b[49m\u001b[43m,\u001b[49m\u001b[43m \u001b[49m\u001b[43margs\u001b[49m\u001b[43m)\u001b[49m\n\u001b[32m    693\u001b[39m \u001b[38;5;28;01mif\u001b[39;00m \u001b[38;5;28mself\u001b[39m._position.width < \u001b[32m0\u001b[39m \u001b[38;5;129;01mor\u001b[39;00m \u001b[38;5;28mself\u001b[39m._position.height < \u001b[32m0\u001b[39m:\n\u001b[32m    694\u001b[39m     \u001b[38;5;28;01mraise\u001b[39;00m \u001b[38;5;167;01mValueError\u001b[39;00m(\u001b[33m'\u001b[39m\u001b[33mWidth and height specified must be non-negative\u001b[39m\u001b[33m'\u001b[39m)\n",
      "\u001b[36mFile \u001b[39m\u001b[32md:\\Desktop\\hoc\\Tu\\AI\\AIO_AI\\Pytorch\\.venv\\Lib\\site-packages\\matplotlib\\gridspec.py:576\u001b[39m, in \u001b[36mSubplotSpec._from_subplot_args\u001b[39m\u001b[34m(figure, args)\u001b[39m\n\u001b[32m    574\u001b[39m     rows, cols, num = args\n\u001b[32m    575\u001b[39m \u001b[38;5;28;01melse\u001b[39;00m:\n\u001b[32m--> \u001b[39m\u001b[32m576\u001b[39m     \u001b[38;5;28;01mraise\u001b[39;00m _api.nargs_error(\u001b[33m\"\u001b[39m\u001b[33msubplot\u001b[39m\u001b[33m\"\u001b[39m, takes=\u001b[33m\"\u001b[39m\u001b[33m1 or 3\u001b[39m\u001b[33m\"\u001b[39m, given=\u001b[38;5;28mlen\u001b[39m(args))\n\u001b[32m    578\u001b[39m gs = GridSpec._check_gridspec_exists(figure, rows, cols)\n\u001b[32m    579\u001b[39m \u001b[38;5;28;01mif\u001b[39;00m gs \u001b[38;5;129;01mis\u001b[39;00m \u001b[38;5;28;01mNone\u001b[39;00m:\n",
      "\u001b[31mTypeError\u001b[39m: subplot() takes 1 or 3 positional arguments but 2 were given"
     ]
    }
   ],
   "source": [
    "def plot_mnist_images():\n",
    "    # load dataset\n",
    "    transform = torchvision.transforms.Compose([torchvision.transforms.ToTensor()])\n",
    "    mnist_dataset = torchvision.datasets.MNIST(root='data', train=True, transform=transform, download=True)\n",
    "\n",
    "    # Create a data loader to iterate through the dataset\n",
    "    data_loader = torch.utils.data.DataLoader(mnist_dataset, batch_size=10, shuffle=True)\n",
    "\n",
    "    for image, labels in data_loader:\n",
    "        for i in range(10):\n",
    "            plt.subplot(2, 5, i + 1)\n",
    "            plt.imshow(image[i].squeeze().numpy(), cmap='gray')\n",
    "            plt.title(f'Label: {labels[i]}')\n",
    "            plt.axis('off')\n",
    "        plt.show()\n",
    "        break\n",
    "    \n",
    "\n",
    "if __name__ == '__main__':\n",
    "    plot_mnist_images()"
   ]
  },
  {
   "cell_type": "markdown",
   "id": "d7816bc0",
   "metadata": {},
   "source": [
    "# Using Softmax "
   ]
  },
  {
   "cell_type": "code",
   "execution_count": 35,
   "id": "b5b61f85",
   "metadata": {},
   "outputs": [],
   "source": [
    "import torch\n",
    "import torch.nn as nn \n",
    "import torchvision\n",
    "import torchvision.transforms as transforms\n"
   ]
  },
  {
   "cell_type": "code",
   "execution_count": null,
   "id": "0c5396cf",
   "metadata": {},
   "outputs": [
    {
     "ename": "AttributeError",
     "evalue": "module 'torchvision.transforms' has no attribute 'compose'",
     "output_type": "error",
     "traceback": [
      "\u001b[31m---------------------------------------------------------------------------\u001b[39m",
      "\u001b[31mAttributeError\u001b[39m                            Traceback (most recent call last)",
      "\u001b[36mCell\u001b[39m\u001b[36m \u001b[39m\u001b[32mIn[66]\u001b[39m\u001b[32m, line 1\u001b[39m\n\u001b[32m----> \u001b[39m\u001b[32m1\u001b[39m transform = \u001b[43mtransforms\u001b[49m\u001b[43m.\u001b[49m\u001b[43mcompose\u001b[49m([transforms.ToTensor()])\n\u001b[32m      2\u001b[39m train_dataset = torchvision.datasets.MNIST(root= \u001b[33m'\u001b[39m\u001b[33mdata\u001b[39m\u001b[33m'\u001b[39m, train=\u001b[38;5;28;01mTrue\u001b[39;00m, transform=transform, download=\u001b[38;5;28;01mFalse\u001b[39;00m)\n\u001b[32m      3\u001b[39m train_loader = torch.utils.data.DataLoader(dataset=train_dataset, batch_size=\u001b[32m100\u001b[39m,shuffle=\u001b[38;5;28;01mTrue\u001b[39;00m)\n",
      "\u001b[31mAttributeError\u001b[39m: module 'torchvision.transforms' has no attribute 'compose'"
     ]
    }
   ],
   "source": [
    "transform = transforms.Compose([transforms.ToTensor()])\n",
    "train_dataset = torchvision.datasets.MNIST(root= 'data', train=True, transform=transform, download=False)\n",
    "train_loader = torch.utils.data.DataLoader(dataset=train_dataset, batch_size=100,shuffle=True)\n",
    "test_dataset = torchvision.datasets.MNIST(root='data', train=False, transform=transform)\n",
    "test_loader = torch.utils.data.DataLoader(dataset=test_dataset, batch_size=1000, shuffle=False)\n",
    "\n",
    "print(train_dataset)\n",
    "print(test_dataset)"
   ]
  },
  {
   "cell_type": "code",
   "execution_count": 56,
   "id": "4a3586e0",
   "metadata": {},
   "outputs": [
    {
     "name": "stdout",
     "output_type": "stream",
     "text": [
      "Epoch [1/5], Loss: 0.3255\n",
      "Epoch [2/5], Loss: 0.3044\n",
      "Epoch [3/5], Loss: 0.3266\n",
      "Epoch [4/5], Loss: 0.3747\n",
      "Epoch [5/5], Loss: 0.2846\n"
     ]
    }
   ],
   "source": [
    "input_dim = 28*28\n",
    "output_dim = 10\n",
    "\n",
    "model = nn.Sequential(nn.Flatten(),\n",
    "                      nn.Linear(input_dim, output_dim))\n",
    "\n",
    "critetion = nn.CrossEntropyLoss()\n",
    "optimizer = torch.optim.SGD(model.parameters(), lr = 0.1)\n",
    "\n",
    "epoch_max = 5\n",
    "losses =[]\n",
    "\n",
    "for epoch in range(epoch_max):\n",
    "    for i, (images, labels) in enumerate(train_loader):\n",
    "        outputs = model(images)\n",
    "        loss = critetion(outputs, labels)\n",
    "        losses.append(loss.item())\n",
    "\n",
    "        optimizer.zero_grad()\n",
    "        loss.backward()\n",
    "        optimizer.step()\n",
    "    print(f'Epoch [{epoch+1}/{epoch_max}], Loss: {loss.item():.4f}')\n",
    "\n"
   ]
  },
  {
   "cell_type": "code",
   "execution_count": 64,
   "id": "b1a5b0a9",
   "metadata": {},
   "outputs": [
    {
     "name": "stdout",
     "output_type": "stream",
     "text": [
      "Accuracy on 10,000 test images: 91.85%\n"
     ]
    }
   ],
   "source": [
    "# test\n",
    "with torch.no_grad():\n",
    "    correct = 0\n",
    "    total = 0\n",
    "    for images, labels in test_loader:\n",
    "        outputs = model(images)\n",
    "        predict = torch.argmax(outputs.data, dim = 1)\n",
    "        total += labels.size(0)\n",
    "        correct += (predict == labels).sum().item()\n",
    "    print(f'Accuracy on 10,000 test images: {100 * correct / total:.2f}%')"
   ]
  },
  {
   "cell_type": "code",
   "execution_count": 65,
   "id": "54d09863",
   "metadata": {},
   "outputs": [
    {
     "data": {
      "image/png": "[encoded data removed]",
      "text/plain": [
       "<Figure size 640x480 with 1 Axes>"
      ]
     },
     "metadata": {},
     "output_type": "display_data"
    }
   ],
   "source": [
    "import matplotlib.pyplot as plt\n",
    "\n",
    "plt.plot(losses)\n",
    "plt.xlabel('Epoch')\n",
    "plt.ylabel('Loss')\n",
    "plt.show()"
   ]
  }
 ],
 "metadata": {
  "kernelspec": {
   "display_name": ".venv (3.11.5)",
   "language": "python",
   "name": "python3"
  },
  "language_info": {
   "codemirror_mode": {
    "name": "ipython",
    "version": 3
   },
   "file_extension": ".py",
   "mimetype": "text/x-python",
   "name": "python",
   "nbconvert_exporter": "python",
   "pygments_lexer": "ipython3",
   "version": "3.11.5"
  }
 },
 "nbformat": 4,
 "nbformat_minor": 5
}
