{
 "cells": [
  {
   "cell_type": "code",
   "execution_count": null,
   "id": "a568fe60",
   "metadata": {},
   "outputs": [],
   "source": [
    "import numpy as np\n",
    "import torch\n",
    "import torch.nn as nn\n",
    "\n"
   ]
  },
  {
   "cell_type": "code",
   "execution_count": 4,
   "id": "ffbe9ca3",
   "metadata": {},
   "outputs": [],
   "source": [
    "iris = np.genfromtxt('iris_1D_2c.csv', dtype=None, delimiter=',', skip_header=1)\n",
    "X = torch.tensor(iris[:, 0:1], dtype=torch.float32)\n",
    "y = torch.tensor(iris[:, 1], dtype=torch.int64)\n"
   ]
  },
  {
   "cell_type": "code",
   "execution_count": null,
   "id": "326d2535",
   "metadata": {},
   "outputs": [],
   "source": [
    "#define model\n",
    "class SoftmaxRegression(nn.Module):\n",
    "    def __init__(self, input_dim, output_dim):\n",
    "        super(SoftmaxRegression, self).__init__()\n",
    "        self.linear = nn.Linear(input_dim, output_dim)\n",
    "\n",
    "        "
   ]
  }
 ],
 "metadata": {
  "kernelspec": {
   "display_name": ".venv (3.11.5)",
   "language": "python",
   "name": "python3"
  },
  "language_info": {
   "codemirror_mode": {
    "name": "ipython",
    "version": 3
   },
   "file_extension": ".py",
   "mimetype": "text/x-python",
   "name": "python",
   "nbconvert_exporter": "python",
   "pygments_lexer": "ipython3",
   "version": "3.11.5"
  }
 },
 "nbformat": 4,
 "nbformat_minor": 5
}
