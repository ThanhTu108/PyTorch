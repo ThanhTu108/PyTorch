{
 "cells": [
  {
   "cell_type": "code",
   "execution_count": 29,
   "id": "a568fe60",
   "metadata": {},
   "outputs": [],
   "source": [
    "import numpy as np\n",
    "import torch\n",
    "import torch.nn as nn\n",
    "\n"
   ]
  },
  {
   "cell_type": "code",
   "execution_count": 30,
   "id": "ffbe9ca3",
   "metadata": {},
   "outputs": [],
   "source": [
    "iris = np.genfromtxt('iris_1D_2c.csv', dtype=None, delimiter=',', skip_header=1)\n",
    "X = torch.tensor(iris[:, 0:1], dtype=torch.float32)\n",
    "y = torch.tensor(iris[:, 1], dtype=torch.int64)\n"
   ]
  },
  {
   "cell_type": "code",
   "execution_count": 31,
   "id": "326d2535",
   "metadata": {},
   "outputs": [
    {
     "name": "stdout",
     "output_type": "stream",
     "text": [
      "xi: tensor([[1.4000]])\n",
      "yi: tensor([0])\n",
      "outputs: tensor([[1.4298, 0.9459]])\n",
      "loss: 0.4801858961582184\n",
      "Parameter containing:\n",
      "tensor([[0.5780],\n",
      "        [0.2002]], requires_grad=True)\n",
      "Parameter containing:\n",
      "tensor([0.7334, 0.5527], requires_grad=True)\n"
     ]
    }
   ],
   "source": [
    "#define model\n",
    "class SoftmaxRegression(nn.Module):\n",
    "    def __init__(self, input_dim, output_dim):\n",
    "        super(SoftmaxRegression, self).__init__()\n",
    "        self.linear = nn.Linear(input_dim, output_dim)\n",
    "\n",
    "        #set value \n",
    "        # self.linear.weight.data = torch.Tensor([[0.2], [-0.1]])\n",
    "        # print(self.linear.weight.data.shape())\n",
    "        # self.linear.bias.data = torch.Tensor([0.1, 0.05])\n",
    "\n",
    "    def forward(self, x):\n",
    "        return self.linear(x)\n",
    "\n",
    "input_dim =X.shape[1]\n",
    "output_dim = len(torch.unique(y))\n",
    "model = SoftmaxRegression(input_dim, output_dim)\n",
    "\n",
    "# loss and optimizer\n",
    "criterion = nn.CrossEntropyLoss()\n",
    "optimizer = torch.optim.SGD(model.parameters(), lr=0.1)\n",
    "\n",
    "# training loop\n",
    "epoch_max = 1\n",
    "for epoch in range(epoch_max):\n",
    "    for i in range(X.shape[0]) :\n",
    "        xi = X[i].unsqueeze(0)\n",
    "        yi = y[i].unsqueeze(0)\n",
    "\n",
    "        print(f'xi: {xi}')\n",
    "        print(f'yi: {yi}')\n",
    "\n",
    "        output = model(xi)\n",
    "        print(f'outputs: {output.data}')\n",
    "        loss = criterion(output, yi)\n",
    "        print(f'loss: {loss}')\n",
    "        optimizer.zero_grad()\n",
    "        loss.backward()\n",
    "        optimizer.step()\n",
    "        break\n",
    "    break\n",
    "print(model.linear.weight)\n",
    "print(model.linear.bias)"
   ]
  }
 ],
 "metadata": {
  "kernelspec": {
   "display_name": ".venv (3.11.5)",
   "language": "python",
   "name": "python3"
  },
  "language_info": {
   "codemirror_mode": {
    "name": "ipython",
    "version": 3
   },
   "file_extension": ".py",
   "mimetype": "text/x-python",
   "name": "python",
   "nbconvert_exporter": "python",
   "pygments_lexer": "ipython3",
   "version": "3.11.5"
  }
 },
 "nbformat": 4,
 "nbformat_minor": 5
}
