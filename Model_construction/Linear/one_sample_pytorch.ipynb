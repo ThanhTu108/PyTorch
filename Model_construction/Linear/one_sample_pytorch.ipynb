{
 "cells": [
  {
   "cell_type": "code",
   "execution_count": 61,
   "id": "11eeebf8",
   "metadata": {},
   "outputs": [],
   "source": [
    "import numpy as np\n",
    "import torch\n",
    "import matplotlib.pyplot as plt\n",
    "import pandas as pd"
   ]
  },
  {
   "cell_type": "code",
   "execution_count": 62,
   "id": "9291e101",
   "metadata": {},
   "outputs": [
    {
     "name": "stdout",
     "output_type": "stream",
     "text": [
      "tensor([[6.7000],\n",
      "        [4.6000],\n",
      "        [3.5000],\n",
      "        [5.5000]], dtype=torch.float64)\n",
      "tensor([9.1000, 5.9000, 4.6000, 6.7000], dtype=torch.float64)\n"
     ]
    }
   ],
   "source": [
    "# df = pd.read_csv('data.csv')\n",
    "data =np.genfromtxt('data.csv', delimiter=',', skip_header=0)\n",
    "x_data = torch.from_numpy(data[:, 0:1])\n",
    "y_data = torch.from_numpy(data[:, 1])\n",
    "# y_data = df.iloc[:, 1].values\n",
    "print(x_data)\n",
    "print(y_data)"
   ]
  },
  {
   "cell_type": "code",
   "execution_count": 63,
   "id": "3571d9f9",
   "metadata": {},
   "outputs": [
    {
     "name": "stdout",
     "output_type": "stream",
     "text": [
      "Parameter containing:\n",
      "tensor([[-0.3400]], requires_grad=True)\n",
      "Parameter containing:\n",
      "tensor([0.0400], requires_grad=True)\n"
     ]
    }
   ],
   "source": [
    "# Create a Linear layer\n",
    "linear = torch.nn.Linear(1,1)   # 1 feature 1 output\n",
    "\n",
    "# Set value\n",
    "linear.weight.data = torch.Tensor([[-0.34]])\n",
    "linear.bias.data = torch.Tensor([0.04])\n",
    "\n",
    "print(linear.weight)\n",
    "print(linear.bias)"
   ]
  },
  {
   "cell_type": "code",
   "execution_count": 64,
   "id": "5f9ca759",
   "metadata": {},
   "outputs": [],
   "source": [
    "loss_fn = torch.nn.MSELoss()\n",
    "optimizer = torch.optim.SGD(linear.parameters(), lr=0.01)\n",
    "epochs = 1"
   ]
  },
  {
   "cell_type": "code",
   "execution_count": null,
   "id": "79514cf4",
   "metadata": {},
   "outputs": [
    {
     "name": "stdout",
     "output_type": "stream",
     "text": [
      "y_hat: -2.23799991607666\n",
      "loss: 128.5502471923828\n",
      "y_hat: -1.5240000486373901\n",
      "loss: 55.115779876708984\n",
      "y_hat: -1.1500000953674316\n",
      "loss: 33.0625\n",
      "y_hat: -1.8300000429153442\n",
      "loss: 72.76089477539062\n"
     ]
    }
   ],
   "source": [
    "# training \n",
    "for epoch in range(epochs):\n",
    "    for i in range(4):\n",
    "        x = x_data[i].float()\n",
    "        y = y_data[i].float()\n",
    "\n",
    "        # predict\n",
    "        y_hat = linear(x)\n",
    "        print(f'y_hat: {y_hat.item()}')\n",
    "\n",
    "        # compute loss\n",
    "        loss = loss_fn(y_hat, y)\n",
    "        print(f'loss: {loss.item()}')\n",
    "        \n",
    "        "
   ]
  }
 ],
 "metadata": {
  "kernelspec": {
   "display_name": ".venv (3.11.5)",
   "language": "python",
   "name": "python3"
  },
  "language_info": {
   "codemirror_mode": {
    "name": "ipython",
    "version": 3
   },
   "file_extension": ".py",
   "mimetype": "text/x-python",
   "name": "python",
   "nbconvert_exporter": "python",
   "pygments_lexer": "ipython3",
   "version": "3.11.5"
  }
 },
 "nbformat": 4,
 "nbformat_minor": 5
}
