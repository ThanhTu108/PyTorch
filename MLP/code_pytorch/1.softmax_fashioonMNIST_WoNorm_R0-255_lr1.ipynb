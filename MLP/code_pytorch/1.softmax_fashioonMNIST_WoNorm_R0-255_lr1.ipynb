{
 "cells": [
  {
   "cell_type": "markdown",
   "id": "e77b7943",
   "metadata": {},
   "source": [
    "# Import libraries"
   ]
  },
  {
   "cell_type": "code",
   "execution_count": 13,
   "id": "902b94c3",
   "metadata": {},
   "outputs": [],
   "source": [
    "import torch\n",
    "import torch.nn as nn\n",
    "import torch.optim as optim\n",
    "import torchvision\n",
    "import torchvision.transforms as transforms"
   ]
  },
  {
   "cell_type": "markdown",
   "id": "d376b66c",
   "metadata": {},
   "source": [
    "## Check GPU\n"
   ]
  },
  {
   "cell_type": "code",
   "execution_count": 14,
   "id": "20e87e73",
   "metadata": {},
   "outputs": [],
   "source": [
    "device = torch.device(\"cuda:0\" if torch.cuda.is_available() else \"cpu\")"
   ]
  },
  {
   "cell_type": "code",
   "execution_count": 20,
   "id": "c6659880",
   "metadata": {},
   "outputs": [],
   "source": [
    "# x = x - mean / std -> (x-0) / (1/255) -> convert (0,1) to (0, 255)\n",
    "transform = torchvision.transforms.Compose([transforms.ToTensor(), \n",
    "                                            transforms.Normalize((0,), (1.0/255.0))])\n",
    "trainset = torchvision.datasets.FashionMNIST(root='data1', \n",
    "                                             train=True,\n",
    "                                             download=True,\n",
    "                                             transform=transform)\n",
    "train_loader = torch.utils.data.DataLoader(trainset,\n",
    "                                           batch_size = 1024,\n",
    "                                           num_workers = 10,\n",
    "                                           shuffle = True)\n",
    "\n",
    "testset = torchvision.datasets.FashionMNIST(root='data1', \n",
    "                                            train=False,\n",
    "                                            download=True)\n",
    "test_loader = torch.utils.data.DataLoader(testset,\n",
    "                                          batch_size=1024,\n",
    "                                          num_workers=10,\n",
    "                                          shuffle=False)"
   ]
  }
 ],
 "metadata": {
  "kernelspec": {
   "display_name": ".venv (3.11.5)",
   "language": "python",
   "name": "python3"
  },
  "language_info": {
   "codemirror_mode": {
    "name": "ipython",
    "version": 3
   },
   "file_extension": ".py",
   "mimetype": "text/x-python",
   "name": "python",
   "nbconvert_exporter": "python",
   "pygments_lexer": "ipython3",
   "version": "3.11.5"
  }
 },
 "nbformat": 4,
 "nbformat_minor": 5
}
